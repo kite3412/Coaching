{
 "cells": [
  {
   "cell_type": "markdown",
   "metadata": {},
   "source": [
    "1: Loading the dataset\n",
    "\n",
    "import numpy as np \n",
    "\n",
    "Load the dataset (replace 'dataset.csv' with the actual path to your file) \n",
    "\n",
    "Assuming the data columns are in the order: CustomerID, Gender, Age, Annual Income, Spending Score \n",
    "\n",
    "data = np.genfromtxt('dataset.csv', delimiter=',', skip_header=1)\n",
    "\n",
    "You will notice the gender column is all NaNs. Why is that ? How can you solve for it ?\n"
   ]
  },
  {
   "cell_type": "code",
   "execution_count": 1,
   "metadata": {},
   "outputs": [],
   "source": [
    "import numpy as np"
   ]
  },
  {
   "cell_type": "code",
   "execution_count": 39,
   "metadata": {},
   "outputs": [],
   "source": [
    "data = np.genfromtxt(\"Mall_Customers.csv\", dtype=[\"i8\", \"U6\", \"i8\", \"i8\", \"i8\"], names=[\"id\", \"gender\", \"age\", \"income\", \"score\"], delimiter=',', skip_header=1)\n"
   ]
  },
  {
   "cell_type": "code",
   "execution_count": 40,
   "metadata": {},
   "outputs": [
    {
     "data": {
      "text/plain": [
       "array([(  1, 'Male', 19,  15, 39), (  2, 'Male', 21,  15, 81),\n",
       "       (  3, 'Female', 20,  16,  6), (  4, 'Female', 23,  16, 77),\n",
       "       (  5, 'Female', 31,  17, 40), (  6, 'Female', 22,  17, 76),\n",
       "       (  7, 'Female', 35,  18,  6), (  8, 'Female', 23,  18, 94),\n",
       "       (  9, 'Male', 64,  19,  3), ( 10, 'Female', 30,  19, 72),\n",
       "       ( 11, 'Male', 67,  19, 14), ( 12, 'Female', 35,  19, 99),\n",
       "       ( 13, 'Female', 58,  20, 15), ( 14, 'Female', 24,  20, 77),\n",
       "       ( 15, 'Male', 37,  20, 13), ( 16, 'Male', 22,  20, 79),\n",
       "       ( 17, 'Female', 35,  21, 35), ( 18, 'Male', 20,  21, 66),\n",
       "       ( 19, 'Male', 52,  23, 29), ( 20, 'Female', 35,  23, 98),\n",
       "       ( 21, 'Male', 35,  24, 35), ( 22, 'Male', 25,  24, 73),\n",
       "       ( 23, 'Female', 46,  25,  5), ( 24, 'Male', 31,  25, 73),\n",
       "       ( 25, 'Female', 54,  28, 14), ( 26, 'Male', 29,  28, 82),\n",
       "       ( 27, 'Female', 45,  28, 32), ( 28, 'Male', 35,  28, 61),\n",
       "       ( 29, 'Female', 40,  29, 31), ( 30, 'Female', 23,  29, 87),\n",
       "       ( 31, 'Male', 60,  30,  4), ( 32, 'Female', 21,  30, 73),\n",
       "       ( 33, 'Male', 53,  33,  4), ( 34, 'Male', 18,  33, 92),\n",
       "       ( 35, 'Female', 49,  33, 14), ( 36, 'Female', 21,  33, 81),\n",
       "       ( 37, 'Female', 42,  34, 17), ( 38, 'Female', 30,  34, 73),\n",
       "       ( 39, 'Female', 36,  37, 26), ( 40, 'Female', 20,  37, 75),\n",
       "       ( 41, 'Female', 65,  38, 35), ( 42, 'Male', 24,  38, 92),\n",
       "       ( 43, 'Male', 48,  39, 36), ( 44, 'Female', 31,  39, 61),\n",
       "       ( 45, 'Female', 49,  39, 28), ( 46, 'Female', 24,  39, 65),\n",
       "       ( 47, 'Female', 50,  40, 55), ( 48, 'Female', 27,  40, 47),\n",
       "       ( 49, 'Female', 29,  40, 42), ( 50, 'Female', 31,  40, 42),\n",
       "       ( 51, 'Female', 49,  42, 52), ( 52, 'Male', 33,  42, 60),\n",
       "       ( 53, 'Female', 31,  43, 54), ( 54, 'Male', 59,  43, 60),\n",
       "       ( 55, 'Female', 50,  43, 45), ( 56, 'Male', 47,  43, 41),\n",
       "       ( 57, 'Female', 51,  44, 50), ( 58, 'Male', 69,  44, 46),\n",
       "       ( 59, 'Female', 27,  46, 51), ( 60, 'Male', 53,  46, 46),\n",
       "       ( 61, 'Male', 70,  46, 56), ( 62, 'Male', 19,  46, 55),\n",
       "       ( 63, 'Female', 67,  47, 52), ( 64, 'Female', 54,  47, 59),\n",
       "       ( 65, 'Male', 63,  48, 51), ( 66, 'Male', 18,  48, 59),\n",
       "       ( 67, 'Female', 43,  48, 50), ( 68, 'Female', 68,  48, 48),\n",
       "       ( 69, 'Male', 19,  48, 59), ( 70, 'Female', 32,  48, 47),\n",
       "       ( 71, 'Male', 70,  49, 55), ( 72, 'Female', 47,  49, 42),\n",
       "       ( 73, 'Female', 60,  50, 49), ( 74, 'Female', 60,  50, 56),\n",
       "       ( 75, 'Male', 59,  54, 47), ( 76, 'Male', 26,  54, 54),\n",
       "       ( 77, 'Female', 45,  54, 53), ( 78, 'Male', 40,  54, 48),\n",
       "       ( 79, 'Female', 23,  54, 52), ( 80, 'Female', 49,  54, 42),\n",
       "       ( 81, 'Male', 57,  54, 51), ( 82, 'Male', 38,  54, 55),\n",
       "       ( 83, 'Male', 67,  54, 41), ( 84, 'Female', 46,  54, 44),\n",
       "       ( 85, 'Female', 21,  54, 57), ( 86, 'Male', 48,  54, 46),\n",
       "       ( 87, 'Female', 55,  57, 58), ( 88, 'Female', 22,  57, 55),\n",
       "       ( 89, 'Female', 34,  58, 60), ( 90, 'Female', 50,  58, 46),\n",
       "       ( 91, 'Female', 68,  59, 55), ( 92, 'Male', 18,  59, 41),\n",
       "       ( 93, 'Male', 48,  60, 49), ( 94, 'Female', 40,  60, 40),\n",
       "       ( 95, 'Female', 32,  60, 42), ( 96, 'Male', 24,  60, 52),\n",
       "       ( 97, 'Female', 47,  60, 47), ( 98, 'Female', 27,  60, 50),\n",
       "       ( 99, 'Male', 48,  61, 42), (100, 'Male', 20,  61, 49),\n",
       "       (101, 'Female', 23,  62, 41), (102, 'Female', 49,  62, 48),\n",
       "       (103, 'Male', 67,  62, 59), (104, 'Male', 26,  62, 55),\n",
       "       (105, 'Male', 49,  62, 56), (106, 'Female', 21,  62, 42),\n",
       "       (107, 'Female', 66,  63, 50), (108, 'Male', 54,  63, 46),\n",
       "       (109, 'Male', 68,  63, 43), (110, 'Male', 66,  63, 48),\n",
       "       (111, 'Male', 65,  63, 52), (112, 'Female', 19,  63, 54),\n",
       "       (113, 'Female', 38,  64, 42), (114, 'Male', 19,  64, 46),\n",
       "       (115, 'Female', 18,  65, 48), (116, 'Female', 19,  65, 50),\n",
       "       (117, 'Female', 63,  65, 43), (118, 'Female', 49,  65, 59),\n",
       "       (119, 'Female', 51,  67, 43), (120, 'Female', 50,  67, 57),\n",
       "       (121, 'Male', 27,  67, 56), (122, 'Female', 38,  67, 40),\n",
       "       (123, 'Female', 40,  69, 58), (124, 'Male', 39,  69, 91),\n",
       "       (125, 'Female', 23,  70, 29), (126, 'Female', 31,  70, 77),\n",
       "       (127, 'Male', 43,  71, 35), (128, 'Male', 40,  71, 95),\n",
       "       (129, 'Male', 59,  71, 11), (130, 'Male', 38,  71, 75),\n",
       "       (131, 'Male', 47,  71,  9), (132, 'Male', 39,  71, 75),\n",
       "       (133, 'Female', 25,  72, 34), (134, 'Female', 31,  72, 71),\n",
       "       (135, 'Male', 20,  73,  5), (136, 'Female', 29,  73, 88),\n",
       "       (137, 'Female', 44,  73,  7), (138, 'Male', 32,  73, 73),\n",
       "       (139, 'Male', 19,  74, 10), (140, 'Female', 35,  74, 72),\n",
       "       (141, 'Female', 57,  75,  5), (142, 'Male', 32,  75, 93),\n",
       "       (143, 'Female', 28,  76, 40), (144, 'Female', 32,  76, 87),\n",
       "       (145, 'Male', 25,  77, 12), (146, 'Male', 28,  77, 97),\n",
       "       (147, 'Male', 48,  77, 36), (148, 'Female', 32,  77, 74),\n",
       "       (149, 'Female', 34,  78, 22), (150, 'Male', 34,  78, 90),\n",
       "       (151, 'Male', 43,  78, 17), (152, 'Male', 39,  78, 88),\n",
       "       (153, 'Female', 44,  78, 20), (154, 'Female', 38,  78, 76),\n",
       "       (155, 'Female', 47,  78, 16), (156, 'Female', 27,  78, 89),\n",
       "       (157, 'Male', 37,  78,  1), (158, 'Female', 30,  78, 78),\n",
       "       (159, 'Male', 34,  78,  1), (160, 'Female', 30,  78, 73),\n",
       "       (161, 'Female', 56,  79, 35), (162, 'Female', 29,  79, 83),\n",
       "       (163, 'Male', 19,  81,  5), (164, 'Female', 31,  81, 93),\n",
       "       (165, 'Male', 50,  85, 26), (166, 'Female', 36,  85, 75),\n",
       "       (167, 'Male', 42,  86, 20), (168, 'Female', 33,  86, 95),\n",
       "       (169, 'Female', 36,  87, 27), (170, 'Male', 32,  87, 63),\n",
       "       (171, 'Male', 40,  87, 13), (172, 'Male', 28,  87, 75),\n",
       "       (173, 'Male', 36,  87, 10), (174, 'Male', 36,  87, 92),\n",
       "       (175, 'Female', 52,  88, 13), (176, 'Female', 30,  88, 86),\n",
       "       (177, 'Male', 58,  88, 15), (178, 'Male', 27,  88, 69),\n",
       "       (179, 'Male', 59,  93, 14), (180, 'Male', 35,  93, 90),\n",
       "       (181, 'Female', 37,  97, 32), (182, 'Female', 32,  97, 86),\n",
       "       (183, 'Male', 46,  98, 15), (184, 'Female', 29,  98, 88),\n",
       "       (185, 'Female', 41,  99, 39), (186, 'Male', 30,  99, 97),\n",
       "       (187, 'Female', 54, 101, 24), (188, 'Male', 28, 101, 68),\n",
       "       (189, 'Female', 41, 103, 17), (190, 'Female', 36, 103, 85),\n",
       "       (191, 'Female', 34, 103, 23), (192, 'Female', 32, 103, 69),\n",
       "       (193, 'Male', 33, 113,  8), (194, 'Female', 38, 113, 91),\n",
       "       (195, 'Female', 47, 120, 16), (196, 'Female', 35, 120, 79),\n",
       "       (197, 'Female', 45, 126, 28), (198, 'Male', 32, 126, 74),\n",
       "       (199, 'Male', 32, 137, 18), (200, 'Male', 30, 137, 83)],\n",
       "      dtype=[('id', '<i8'), ('gender', '<U6'), ('age', '<i8'), ('income', '<i8'), ('score', '<i8')])"
      ]
     },
     "execution_count": 40,
     "metadata": {},
     "output_type": "execute_result"
    }
   ],
   "source": [
    "data"
   ]
  },
  {
   "cell_type": "markdown",
   "metadata": {},
   "source": [
    "2: Understand Customer Demographics\n",
    "\n",
    "Calculate the average Age, Annual Income, and Spending Score to understand the typical customer profile.\n",
    "\n",
    "Analyze customer distribution by gender. Does one gender tend to spend more or earn more on average?\n",
    "\n",
    "Hint: Use NumPy operations like mean(), min(), and max() for this analysis.\n"
   ]
  },
  {
   "cell_type": "code",
   "execution_count": 56,
   "metadata": {},
   "outputs": [],
   "source": [
    "age = data[\"age\"]\n",
    "income = data[\"income\"]\n",
    "score = data[\"score\"]\n",
    "gender = data[\"gender\"]"
   ]
  },
  {
   "cell_type": "code",
   "execution_count": 49,
   "metadata": {},
   "outputs": [
    {
     "data": {
      "text/plain": [
       "38.85"
      ]
     },
     "execution_count": 49,
     "metadata": {},
     "output_type": "execute_result"
    }
   ],
   "source": [
    "avg_age = np.mean(age)\n",
    "avg_age"
   ]
  },
  {
   "cell_type": "code",
   "execution_count": 50,
   "metadata": {},
   "outputs": [
    {
     "data": {
      "text/plain": [
       "60.56"
      ]
     },
     "execution_count": 50,
     "metadata": {},
     "output_type": "execute_result"
    }
   ],
   "source": [
    "avg_income = np.mean(income)\n",
    "avg_income"
   ]
  },
  {
   "cell_type": "code",
   "execution_count": 67,
   "metadata": {},
   "outputs": [
    {
     "data": {
      "text/plain": [
       "50.2"
      ]
     },
     "execution_count": 67,
     "metadata": {},
     "output_type": "execute_result"
    }
   ],
   "source": [
    "avg_score = np.mean(score)\n",
    "avg_score"
   ]
  },
  {
   "cell_type": "code",
   "execution_count": 62,
   "metadata": {},
   "outputs": [
    {
     "data": {
      "text/plain": [
       "62.22727272727273"
      ]
     },
     "execution_count": 62,
     "metadata": {},
     "output_type": "execute_result"
    }
   ],
   "source": [
    "avg_male_income = np.mean(income[gender == \"Male\"])\n",
    "avg_male_income"
   ]
  },
  {
   "cell_type": "code",
   "execution_count": 64,
   "metadata": {},
   "outputs": [
    {
     "data": {
      "text/plain": [
       "59.25"
      ]
     },
     "execution_count": 64,
     "metadata": {},
     "output_type": "execute_result"
    }
   ],
   "source": [
    "avg_female_income = np.mean(income[gender == \"Female\"])\n",
    "avg_female_income"
   ]
  },
  {
   "cell_type": "code",
   "execution_count": 65,
   "metadata": {},
   "outputs": [
    {
     "data": {
      "text/plain": [
       "48.51136363636363"
      ]
     },
     "execution_count": 65,
     "metadata": {},
     "output_type": "execute_result"
    }
   ],
   "source": [
    "avg_male_score = np.mean(score[gender == \"Male\"])\n",
    "avg_male_score"
   ]
  },
  {
   "cell_type": "code",
   "execution_count": 66,
   "metadata": {},
   "outputs": [
    {
     "data": {
      "text/plain": [
       "51.526785714285715"
      ]
     },
     "execution_count": 66,
     "metadata": {},
     "output_type": "execute_result"
    }
   ],
   "source": [
    "avg_female_score = np.mean(score[gender == \"Female\"])\n",
    "avg_female_score"
   ]
  },
  {
   "cell_type": "markdown",
   "metadata": {},
   "source": [
    "The average age, annual income and spending score is 38.85, 60.56k and 50.2 respectively.\n",
    "\n",
    "On average, male's annual income is more than that of female, female's spending score is more than that of male."
   ]
  },
  {
   "cell_type": "markdown",
   "metadata": {},
   "source": [
    "3: Identify High-Value Customers\n",
    "\n",
    "Filter customers with a Spending Score > 80 and calculate their average Annual Income.\n",
    "\n",
    "Identify the top 10 customers by Spending Score. What do they have in common (e.g., age group, gender)?\n",
    "\n",
    "Hint: Use boolean indexing and NumPy’s argsort() for ranking."
   ]
  },
  {
   "cell_type": "code",
   "execution_count": 68,
   "metadata": {},
   "outputs": [
    {
     "data": {
      "text/plain": [
       "69.06666666666666"
      ]
     },
     "execution_count": 68,
     "metadata": {},
     "output_type": "execute_result"
    }
   ],
   "source": [
    "avg_income_score_80 = np.mean(income[score > 80])\n",
    "avg_income_score_80"
   ]
  },
  {
   "cell_type": "code",
   "execution_count": 100,
   "metadata": {},
   "outputs": [
    {
     "data": {
      "text/plain": [
       "array([( 12, 'Female', 35, 19, 99), ( 20, 'Female', 35, 23, 98),\n",
       "       (186, 'Male', 30, 99, 97), (146, 'Male', 28, 77, 97),\n",
       "       (168, 'Female', 33, 86, 95), (128, 'Male', 40, 71, 95),\n",
       "       (  8, 'Female', 23, 18, 94), (142, 'Male', 32, 75, 93),\n",
       "       (164, 'Female', 31, 81, 93), ( 42, 'Male', 24, 38, 92)],\n",
       "      dtype=[('id', '<i8'), ('gender', '<U6'), ('age', '<i8'), ('income', '<i8'), ('score', '<i8')])"
      ]
     },
     "execution_count": 100,
     "metadata": {},
     "output_type": "execute_result"
    }
   ],
   "source": [
    "sorted = np.argsort(score)\n",
    "sorted = sorted[::-1]\n",
    "top_10 = data[sorted][:10]\n",
    "top_10"
   ]
  },
  {
   "cell_type": "code",
   "execution_count": 106,
   "metadata": {},
   "outputs": [],
   "source": [
    "top_10_gender = gender[sorted][:10]\n",
    "top_10_age = age[sorted][:10]\n",
    "top_10_income = income[sorted][:10]"
   ]
  },
  {
   "cell_type": "code",
   "execution_count": 97,
   "metadata": {},
   "outputs": [
    {
     "data": {
      "text/plain": [
       "31.1"
      ]
     },
     "execution_count": 97,
     "metadata": {},
     "output_type": "execute_result"
    }
   ],
   "source": [
    "top_10_age_avg = np.mean(top_10_age)\n",
    "top_10_age_avg"
   ]
  },
  {
   "cell_type": "code",
   "execution_count": 98,
   "metadata": {},
   "outputs": [
    {
     "data": {
      "text/plain": [
       "58.7"
      ]
     },
     "execution_count": 98,
     "metadata": {},
     "output_type": "execute_result"
    }
   ],
   "source": [
    "top_10_income_avg = np.mean(top_10_income)\n",
    "top_10_income_avg"
   ]
  },
  {
   "cell_type": "code",
   "execution_count": 105,
   "metadata": {},
   "outputs": [
    {
     "data": {
      "text/plain": [
       "5"
      ]
     },
     "execution_count": 105,
     "metadata": {},
     "output_type": "execute_result"
    }
   ],
   "source": [
    "male_count = np.sum(top_10_gender == \"Male\")\n",
    "male_count"
   ]
  },
  {
   "cell_type": "markdown",
   "metadata": {},
   "source": [
    "The average annual income for customers with a spending score more than 80 is 69.06k.\n",
    "\n",
    "For customers in top 10 spending score, their average age is 31,1 and average annual income is 58.7k.\n",
    "\n",
    "For top 10 spending score customers, there are 5 males and 5 females."
   ]
  },
  {
   "cell_type": "markdown",
   "metadata": {},
   "source": [
    "4: Explore Relationships Between Features\n",
    "\n",
    "Compute the pairwise correlations between Age, Annual Income, and Spending Score to uncover key drivers of spending.\n",
    "\n",
    "Filter young adults (18-25) and calculate their average Spending Score. Compare this with older age groups.\n",
    "\n",
    "Hint: Correlation can be computed using NumPy’s corrcoef()."
   ]
  },
  {
   "cell_type": "code",
   "execution_count": 108,
   "metadata": {},
   "outputs": [
    {
     "data": {
      "text/plain": [
       "array([[ 1.        , -0.32722685],\n",
       "       [-0.32722685,  1.        ]])"
      ]
     },
     "execution_count": 108,
     "metadata": {},
     "output_type": "execute_result"
    }
   ],
   "source": [
    "corr_age_score = np.corrcoef(age, score)\n",
    "corr_age_score"
   ]
  },
  {
   "cell_type": "code",
   "execution_count": 109,
   "metadata": {},
   "outputs": [
    {
     "data": {
      "text/plain": [
       "array([[1.        , 0.00990285],\n",
       "       [0.00990285, 1.        ]])"
      ]
     },
     "execution_count": 109,
     "metadata": {},
     "output_type": "execute_result"
    }
   ],
   "source": [
    "corr_income_score = np.corrcoef(income, score)\n",
    "corr_income_score"
   ]
  },
  {
   "cell_type": "code",
   "execution_count": 119,
   "metadata": {},
   "outputs": [
    {
     "data": {
      "text/plain": [
       "54.94736842105263"
      ]
     },
     "execution_count": 119,
     "metadata": {},
     "output_type": "execute_result"
    }
   ],
   "source": [
    "mask = (age >= 18) & (age <= 25)\n",
    "young_avg_score = np.mean(score[mask])\n",
    "young_avg_score"
   ]
  },
  {
   "cell_type": "code",
   "execution_count": 120,
   "metadata": {},
   "outputs": [
    {
     "data": {
      "text/plain": [
       "49.08641975308642"
      ]
     },
     "execution_count": 120,
     "metadata": {},
     "output_type": "execute_result"
    }
   ],
   "source": [
    "old_avg_score = np.mean(score[~mask])\n",
    "old_avg_score"
   ]
  },
  {
   "cell_type": "markdown",
   "metadata": {},
   "source": [
    "The average score for young adults and older age groups are 54.94 and 49.08 respectively."
   ]
  },
  {
   "cell_type": "markdown",
   "metadata": {},
   "source": [
    "5: Customer Segmentation\n",
    "\n",
    "Group customers into three segments based on their Spending Score:\n",
    "\n",
    "Low (1-33)\n",
    "\n",
    "Medium (34-66)\n",
    "\n",
    "High (67-100)\n",
    "\n",
    "Compute the average Age and Annual Income for each segment. What are the characteristics of each group?\n",
    "\n",
    "Propose marketing strategies for each segment.\n",
    "\n",
    "Hint: Use NumPy’s slicing and aggregation techniques."
   ]
  },
  {
   "cell_type": "code",
   "execution_count": 122,
   "metadata": {},
   "outputs": [],
   "source": [
    "low = (score >=1) & (score <= 33)\n",
    "medium = (score >=34) & (score <= 66)\n",
    "high = (score >=67) & (score <= 100)"
   ]
  },
  {
   "cell_type": "code",
   "execution_count": 124,
   "metadata": {},
   "outputs": [
    {
     "name": "stdout",
     "output_type": "stream",
     "text": [
      "42.87755102040816 67.0\n"
     ]
    }
   ],
   "source": [
    "low_avg_age = np.mean(age[low])\n",
    "low_avg_income = np.mean(income[low])\n",
    "print(low_avg_age, low_avg_income)"
   ]
  },
  {
   "cell_type": "code",
   "execution_count": 125,
   "metadata": {},
   "outputs": [
    {
     "name": "stdout",
     "output_type": "stream",
     "text": [
      "42.01063829787234 53.861702127659576\n"
     ]
    }
   ],
   "source": [
    "medium_avg_age = np.mean(age[medium])\n",
    "medium_avg_income = np.mean(income[medium])\n",
    "print(medium_avg_age, medium_avg_income)"
   ]
  },
  {
   "cell_type": "code",
   "execution_count": 126,
   "metadata": {},
   "outputs": [
    {
     "name": "stdout",
     "output_type": "stream",
     "text": [
      "30.17543859649123 66.0701754385965\n"
     ]
    }
   ],
   "source": [
    "high_avg_age = np.mean(age[high])\n",
    "high_avg_income = np.mean(income[high])\n",
    "print(high_avg_age, high_avg_income)"
   ]
  },
  {
   "cell_type": "markdown",
   "metadata": {},
   "source": [
    "Junior tend to have a higher spending score than senior. Annual income does not play an important role in determining spending score."
   ]
  },
  {
   "cell_type": "markdown",
   "metadata": {},
   "source": [
    "6: Find Behavioral Similarities\n",
    "\n",
    "Normalize the dataset (subtract the mean and divide by the standard deviation for each column).\n",
    "\n",
    "Compute the Euclidean distance between each customer and the customer with the highest Spending Score. Identify customers who exhibit similar behavior.\n",
    "\n",
    "Hint: Use NumPy’s vectorized operations for distance calculations."
   ]
  },
  {
   "cell_type": "code",
   "execution_count": 140,
   "metadata": {},
   "outputs": [],
   "source": [
    "age_norm = (age-np.mean(age))/np.std(age)\n",
    "income_norm = (income-np.mean(income))/np.std(income)\n",
    "score_norm = (score-np.mean(score))/np.std(score)"
   ]
  },
  {
   "cell_type": "code",
   "execution_count": 141,
   "metadata": {},
   "outputs": [
    {
     "data": {
      "text/plain": [
       "array([-1.42456879, -1.28103541, -1.3528021 , -1.13750203, -0.56336851,\n",
       "       -1.20926872, -0.27630176, -1.13750203,  1.80493225, -0.6351352 ,\n",
       "        2.02023231, -0.27630176,  1.37433211, -1.06573534, -0.13276838,\n",
       "       -1.20926872, -0.27630176, -1.3528021 ,  0.94373197, -0.27630176,\n",
       "       -0.27630176, -0.99396865,  0.51313183, -0.56336851,  1.08726535,\n",
       "       -0.70690189,  0.44136514, -0.27630176,  0.08253169, -1.13750203,\n",
       "        1.51786549, -1.28103541,  1.01549866, -1.49633548,  0.7284319 ,\n",
       "       -1.28103541,  0.22606507, -0.6351352 , -0.20453507, -1.3528021 ,\n",
       "        1.87669894, -1.06573534,  0.65666521, -0.56336851,  0.7284319 ,\n",
       "       -1.06573534,  0.80019859, -0.85043527, -0.70690189, -0.56336851,\n",
       "        0.7284319 , -0.41983513, -0.56336851,  1.4460988 ,  0.80019859,\n",
       "        0.58489852,  0.87196528,  2.16376569, -0.85043527,  1.01549866,\n",
       "        2.23553238, -1.42456879,  2.02023231,  1.08726535,  1.73316556,\n",
       "       -1.49633548,  0.29783176,  2.091999  , -1.42456879, -0.49160182,\n",
       "        2.23553238,  0.58489852,  1.51786549,  1.51786549,  1.4460988 ,\n",
       "       -0.92220196,  0.44136514,  0.08253169, -1.13750203,  0.7284319 ,\n",
       "        1.30256542, -0.06100169,  2.02023231,  0.51313183, -1.28103541,\n",
       "        0.65666521,  1.15903204, -1.20926872, -0.34806844,  0.80019859,\n",
       "        2.091999  , -1.49633548,  0.65666521,  0.08253169, -0.49160182,\n",
       "       -1.06573534,  0.58489852, -0.85043527,  0.65666521, -1.3528021 ,\n",
       "       -1.13750203,  0.7284319 ,  2.02023231, -0.92220196,  0.7284319 ,\n",
       "       -1.28103541,  1.94846562,  1.08726535,  2.091999  ,  1.94846562,\n",
       "        1.87669894, -1.42456879, -0.06100169, -1.42456879, -1.49633548,\n",
       "       -1.42456879,  1.73316556,  0.7284319 ,  0.87196528,  0.80019859,\n",
       "       -0.85043527, -0.06100169,  0.08253169,  0.010765  , -1.13750203,\n",
       "       -0.56336851,  0.29783176,  0.08253169,  1.4460988 , -0.06100169,\n",
       "        0.58489852,  0.010765  , -0.99396865, -0.56336851, -1.3528021 ,\n",
       "       -0.70690189,  0.36959845, -0.49160182, -1.42456879, -0.27630176,\n",
       "        1.30256542, -0.49160182, -0.77866858, -0.49160182, -0.99396865,\n",
       "       -0.77866858,  0.65666521, -0.49160182, -0.34806844, -0.34806844,\n",
       "        0.29783176,  0.010765  ,  0.36959845, -0.06100169,  0.58489852,\n",
       "       -0.85043527, -0.13276838, -0.6351352 , -0.34806844, -0.6351352 ,\n",
       "        1.23079873, -0.70690189, -1.42456879, -0.56336851,  0.80019859,\n",
       "       -0.20453507,  0.22606507, -0.41983513, -0.20453507, -0.49160182,\n",
       "        0.08253169, -0.77866858, -0.20453507, -0.20453507,  0.94373197,\n",
       "       -0.6351352 ,  1.37433211, -0.85043527,  1.4460988 , -0.27630176,\n",
       "       -0.13276838, -0.49160182,  0.51313183, -0.70690189,  0.15429838,\n",
       "       -0.6351352 ,  1.08726535, -0.77866858,  0.15429838, -0.20453507,\n",
       "       -0.34806844, -0.49160182, -0.41983513, -0.06100169,  0.58489852,\n",
       "       -0.27630176,  0.44136514, -0.49160182, -0.49160182, -0.6351352 ])"
      ]
     },
     "execution_count": 141,
     "metadata": {},
     "output_type": "execute_result"
    }
   ],
   "source": [
    "age_norm"
   ]
  },
  {
   "cell_type": "code",
   "execution_count": 142,
   "metadata": {},
   "outputs": [
    {
     "data": {
      "text/plain": [
       "array([-1.73899919, -1.73899919, -1.70082976, -1.70082976, -1.66266033,\n",
       "       -1.66266033, -1.62449091, -1.62449091, -1.58632148, -1.58632148,\n",
       "       -1.58632148, -1.58632148, -1.54815205, -1.54815205, -1.54815205,\n",
       "       -1.54815205, -1.50998262, -1.50998262, -1.43364376, -1.43364376,\n",
       "       -1.39547433, -1.39547433, -1.3573049 , -1.3573049 , -1.24279661,\n",
       "       -1.24279661, -1.24279661, -1.24279661, -1.20462718, -1.20462718,\n",
       "       -1.16645776, -1.16645776, -1.05194947, -1.05194947, -1.05194947,\n",
       "       -1.05194947, -1.01378004, -1.01378004, -0.89927175, -0.89927175,\n",
       "       -0.86110232, -0.86110232, -0.82293289, -0.82293289, -0.82293289,\n",
       "       -0.82293289, -0.78476346, -0.78476346, -0.78476346, -0.78476346,\n",
       "       -0.70842461, -0.70842461, -0.67025518, -0.67025518, -0.67025518,\n",
       "       -0.67025518, -0.63208575, -0.63208575, -0.55574689, -0.55574689,\n",
       "       -0.55574689, -0.55574689, -0.51757746, -0.51757746, -0.47940803,\n",
       "       -0.47940803, -0.47940803, -0.47940803, -0.47940803, -0.47940803,\n",
       "       -0.4412386 , -0.4412386 , -0.40306917, -0.40306917, -0.25039146,\n",
       "       -0.25039146, -0.25039146, -0.25039146, -0.25039146, -0.25039146,\n",
       "       -0.25039146, -0.25039146, -0.25039146, -0.25039146, -0.25039146,\n",
       "       -0.25039146, -0.13588317, -0.13588317, -0.09771374, -0.09771374,\n",
       "       -0.05954431, -0.05954431, -0.02137488, -0.02137488, -0.02137488,\n",
       "       -0.02137488, -0.02137488, -0.02137488,  0.01679455,  0.01679455,\n",
       "        0.05496398,  0.05496398,  0.05496398,  0.05496398,  0.05496398,\n",
       "        0.05496398,  0.09313341,  0.09313341,  0.09313341,  0.09313341,\n",
       "        0.09313341,  0.09313341,  0.13130284,  0.13130284,  0.16947227,\n",
       "        0.16947227,  0.16947227,  0.16947227,  0.24581112,  0.24581112,\n",
       "        0.24581112,  0.24581112,  0.32214998,  0.32214998,  0.36031941,\n",
       "        0.36031941,  0.39848884,  0.39848884,  0.39848884,  0.39848884,\n",
       "        0.39848884,  0.39848884,  0.43665827,  0.43665827,  0.4748277 ,\n",
       "        0.4748277 ,  0.4748277 ,  0.4748277 ,  0.51299713,  0.51299713,\n",
       "        0.55116656,  0.55116656,  0.58933599,  0.58933599,  0.62750542,\n",
       "        0.62750542,  0.62750542,  0.62750542,  0.66567484,  0.66567484,\n",
       "        0.66567484,  0.66567484,  0.66567484,  0.66567484,  0.66567484,\n",
       "        0.66567484,  0.66567484,  0.66567484,  0.66567484,  0.66567484,\n",
       "        0.70384427,  0.70384427,  0.78018313,  0.78018313,  0.93286085,\n",
       "        0.93286085,  0.97103028,  0.97103028,  1.00919971,  1.00919971,\n",
       "        1.00919971,  1.00919971,  1.00919971,  1.00919971,  1.04736914,\n",
       "        1.04736914,  1.04736914,  1.04736914,  1.23821628,  1.23821628,\n",
       "        1.390894  ,  1.390894  ,  1.42906343,  1.42906343,  1.46723286,\n",
       "        1.46723286,  1.54357172,  1.54357172,  1.61991057,  1.61991057,\n",
       "        1.61991057,  1.61991057,  2.00160487,  2.00160487,  2.26879087,\n",
       "        2.26879087,  2.49780745,  2.49780745,  2.91767117,  2.91767117])"
      ]
     },
     "execution_count": 142,
     "metadata": {},
     "output_type": "execute_result"
    }
   ],
   "source": [
    "income_norm"
   ]
  },
  {
   "cell_type": "code",
   "execution_count": 143,
   "metadata": {},
   "outputs": [
    {
     "data": {
      "text/plain": [
       "array([-0.43480148,  1.19570407, -1.71591298,  1.04041783, -0.39597992,\n",
       "        1.00159627, -1.71591298,  1.70038436, -1.83237767,  0.84631002,\n",
       "       -1.4053405 ,  1.89449216, -1.36651894,  1.04041783, -1.44416206,\n",
       "        1.11806095, -0.59008772,  0.61338066, -0.82301709,  1.8556706 ,\n",
       "       -0.59008772,  0.88513158, -1.75473454,  0.88513158, -1.4053405 ,\n",
       "        1.23452563, -0.7065524 ,  0.41927286, -0.74537397,  1.42863343,\n",
       "       -1.7935561 ,  0.88513158, -1.7935561 ,  1.62274124, -1.4053405 ,\n",
       "        1.19570407, -1.28887582,  0.88513158, -0.93948177,  0.96277471,\n",
       "       -0.59008772,  1.62274124, -0.55126616,  0.41927286, -0.86183865,\n",
       "        0.5745591 ,  0.18634349, -0.12422899, -0.3183368 , -0.3183368 ,\n",
       "        0.06987881,  0.38045129,  0.14752193,  0.38045129, -0.20187212,\n",
       "       -0.35715836, -0.00776431, -0.16305055,  0.03105725, -0.16305055,\n",
       "        0.22516505,  0.18634349,  0.06987881,  0.34162973,  0.03105725,\n",
       "        0.34162973, -0.00776431, -0.08540743,  0.34162973, -0.12422899,\n",
       "        0.18634349, -0.3183368 , -0.04658587,  0.22516505, -0.12422899,\n",
       "        0.14752193,  0.10870037, -0.08540743,  0.06987881, -0.3183368 ,\n",
       "        0.03105725,  0.18634349, -0.35715836, -0.24069368,  0.26398661,\n",
       "       -0.16305055,  0.30280817,  0.18634349,  0.38045129, -0.16305055,\n",
       "        0.18634349, -0.35715836, -0.04658587, -0.39597992, -0.3183368 ,\n",
       "        0.06987881, -0.12422899, -0.00776431, -0.3183368 , -0.04658587,\n",
       "       -0.35715836, -0.08540743,  0.34162973,  0.18634349,  0.22516505,\n",
       "       -0.3183368 , -0.00776431, -0.16305055, -0.27951524, -0.08540743,\n",
       "        0.06987881,  0.14752193, -0.3183368 , -0.16305055, -0.08540743,\n",
       "       -0.00776431, -0.27951524,  0.34162973, -0.27951524,  0.26398661,\n",
       "        0.22516505, -0.39597992,  0.30280817,  1.58391968, -0.82301709,\n",
       "        1.04041783, -0.59008772,  1.73920592, -1.52180518,  0.96277471,\n",
       "       -1.5994483 ,  0.96277471, -0.62890928,  0.80748846, -1.75473454,\n",
       "        1.46745499, -1.67709142,  0.88513158, -1.56062674,  0.84631002,\n",
       "       -1.75473454,  1.6615628 , -0.39597992,  1.42863343, -1.48298362,\n",
       "        1.81684904, -0.55126616,  0.92395314, -1.09476801,  1.54509812,\n",
       "       -1.28887582,  1.46745499, -1.17241113,  1.00159627, -1.32769738,\n",
       "        1.50627656, -1.91002079,  1.07923939, -1.91002079,  0.88513158,\n",
       "       -0.59008772,  1.27334719, -1.75473454,  1.6615628 , -0.93948177,\n",
       "        0.96277471, -1.17241113,  1.73920592, -0.90066021,  0.49691598,\n",
       "       -1.44416206,  0.96277471, -1.56062674,  1.62274124, -1.44416206,\n",
       "        1.38981187, -1.36651894,  0.72984534, -1.4053405 ,  1.54509812,\n",
       "       -0.7065524 ,  1.38981187, -1.36651894,  1.46745499, -0.43480148,\n",
       "        1.81684904, -1.01712489,  0.69102378, -1.28887582,  1.35099031,\n",
       "       -1.05594645,  0.72984534, -1.63826986,  1.58391968, -1.32769738,\n",
       "        1.11806095, -0.86183865,  0.92395314, -1.25005425,  1.27334719])"
      ]
     },
     "execution_count": 143,
     "metadata": {},
     "output_type": "execute_result"
    }
   ],
   "source": [
    "score_norm"
   ]
  },
  {
   "cell_type": "code",
   "execution_count": 162,
   "metadata": {},
   "outputs": [
    {
     "data": {
      "text/plain": [
       "array([2.60142971, 1.23333086, 3.76921616, 1.21828611, 2.30965307,\n",
       "       1.29364526, 3.61060691, 0.88362925, 4.2686173 , 1.10790218,\n",
       "       4.02031893, 0.        , 3.65516654, 1.16366029, 3.34195613,\n",
       "       1.21438449, 2.48575237, 1.67509024, 2.98272515, 0.15753602,\n",
       "       2.49189884, 1.25310701, 3.7406563 , 1.07408784, 3.58695137,\n",
       "       0.85964041, 2.72001617, 1.51468853, 2.69134635, 1.05089524,\n",
       "       4.12274443, 1.48478417, 3.94410976, 1.35936908, 3.49054992,\n",
       "       1.33542052, 3.2732259 , 1.21464971, 2.91694978, 1.58081869,\n",
       "       3.36667373, 1.10589185, 2.72670557, 1.68565757, 3.03143718,\n",
       "       1.71702965, 2.17235359, 2.24663296, 2.3925977 , 2.37097334,\n",
       "       2.26039964, 1.7560252 , 1.99336143, 2.46944546, 2.52839349,\n",
       "       2.57890935, 2.4181941 , 3.33136264, 2.20547114, 2.63899874,\n",
       "       3.18716923, 2.30181951, 3.12177776, 2.3265663 , 2.95560585,\n",
       "       2.26387309, 2.27452553, 3.27934571, 2.22601803, 2.31232494,\n",
       "       3.24627439, 2.63618905, 2.89601555, 2.72135538, 2.97096075,\n",
       "       2.29211716, 2.34282034, 2.41525835, 2.4198324 , 2.7732311 ,\n",
       "       2.78386786, 2.17918219, 3.48262944, 2.63949483, 2.33511179,\n",
       "       2.62461777, 2.58793592, 2.42733816, 2.12448187, 2.75831253,\n",
       "       3.29509771, 2.98151989, 2.66219255, 2.79715599, 2.71882768,\n",
       "       2.53011405, 2.69554426, 2.52928188, 2.88738989, 2.73799524,\n",
       "       2.91640428, 2.76103424, 3.2216872 , 2.45535678, 2.54754012,\n",
       "       2.93256196, 3.37472048, 2.98552608, 3.62708221, 3.41908775,\n",
       "       3.284082  , 2.6816023 , 2.80948383, 2.91585879, 2.9139829 ,\n",
       "       2.8319443 , 3.44195856, 2.55023197, 3.0661923 , 2.67845314,\n",
       "       2.54420757, 2.94097371, 2.51087289, 1.95477004, 3.45194629,\n",
       "       2.14505502, 3.23144526, 2.02295508, 4.3101303 , 2.20316217,\n",
       "       4.1095934 , 2.21132918, 3.31286095, 2.31439656, 4.3271289 ,\n",
       "       2.14851417, 4.17393487, 2.30510278, 4.20279698, 2.34644932,\n",
       "       4.51425877, 2.16089456, 3.19876854, 2.23536661, 4.10163601,\n",
       "       2.27143796, 3.42829267, 2.4267941 , 3.74330259, 2.28006888,\n",
       "       3.94143989, 2.31003366, 3.85934843, 2.43209881, 4.02438303,\n",
       "       2.35623176, 4.42339327, 2.42175266, 4.42164638, 2.49380385,\n",
       "       3.69991192, 2.4116585 , 4.4984127 , 2.3952051 , 3.94164189,\n",
       "       2.68691784, 4.02471319, 2.56607943, 3.81506978, 2.95572386,\n",
       "       4.24406688, 2.80306976, 4.32200501, 2.61069516, 4.42395983,\n",
       "       2.70551102, 4.50500963, 2.93638515, 4.67264088, 2.84606566,\n",
       "       3.95598871, 3.02735335, 4.51109132, 3.07576386, 3.86461116,\n",
       "       3.07554613, 4.48698791, 3.39071378, 4.53863108, 3.25276324,\n",
       "       4.35777035, 3.41799361, 5.03728347, 3.60777283, 5.09765265,\n",
       "       3.93252293, 4.97920821, 4.20338068, 5.49731535, 4.56076005])"
      ]
     },
     "execution_count": 162,
     "metadata": {},
     "output_type": "execute_result"
    }
   ],
   "source": [
    "arr = np.vstack((age_norm, income_norm, score_norm)).T #creating a (200,3) array with normalised age, income and score\n",
    "euc_dist = np.linalg.norm(arr - arr[score == max(score)], axis=1)\n",
    "euc_dist"
   ]
  },
  {
   "cell_type": "code",
   "execution_count": 165,
   "metadata": {},
   "outputs": [
    {
     "data": {
      "text/plain": [
       "array([( 8, 'Female', 23, 18, 94), (12, 'Female', 35, 19, 99),\n",
       "       (20, 'Female', 35, 23, 98), (26, 'Male', 29, 28, 82)],\n",
       "      dtype=[('id', '<i8'), ('gender', '<U6'), ('age', '<i8'), ('income', '<i8'), ('score', '<i8')])"
      ]
     },
     "execution_count": 165,
     "metadata": {},
     "output_type": "execute_result"
    }
   ],
   "source": [
    "data[euc_dist <= 1]"
   ]
  },
  {
   "cell_type": "markdown",
   "metadata": {},
   "source": [
    "Female aged between 23 to 35 with low annual income tend to have a high spending score. "
   ]
  }
 ],
 "metadata": {
  "kernelspec": {
   "display_name": "pds",
   "language": "python",
   "name": "python3"
  },
  "language_info": {
   "codemirror_mode": {
    "name": "ipython",
    "version": 3
   },
   "file_extension": ".py",
   "mimetype": "text/x-python",
   "name": "python",
   "nbconvert_exporter": "python",
   "pygments_lexer": "ipython3",
   "version": "3.10.16"
  }
 },
 "nbformat": 4,
 "nbformat_minor": 2
}
